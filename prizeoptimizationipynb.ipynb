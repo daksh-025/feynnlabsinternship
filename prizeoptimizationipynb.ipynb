{
  "cells": [
    {
      "cell_type": "markdown",
      "id": "improving-father",
      "metadata": {
        "papermill": {
          "duration": 0.016712,
          "end_time": "2021-06-11T07:02:12.236994",
          "exception": false,
          "start_time": "2021-06-11T07:02:12.220282",
          "status": "completed"
        },
        "tags": [],
        "id": "improving-father"
      },
      "source": [
        "# PREPARE TO WORK"
      ]
    },
    {
      "cell_type": "code",
      "execution_count": null,
      "id": "looking-spice",
      "metadata": {
        "execution": {
          "iopub.execute_input": "2021-06-11T07:02:12.275509Z",
          "iopub.status.busy": "2021-06-11T07:02:12.274391Z",
          "iopub.status.idle": "2021-06-11T07:02:13.384198Z",
          "shell.execute_reply": "2021-06-11T07:02:13.385165Z",
          "shell.execute_reply.started": "2021-06-11T06:49:52.575910Z"
        },
        "papermill": {
          "duration": 1.132026,
          "end_time": "2021-06-11T07:02:13.385482",
          "exception": false,
          "start_time": "2021-06-11T07:02:12.253456",
          "status": "completed"
        },
        "tags": [],
        "id": "looking-spice"
      },
      "outputs": [],
      "source": [
        "# IMPORT THINGS\n",
        "import pandas as pd\n",
        "import json\n",
        "import matplotlib.pyplot as plt\n",
        "import numpy as np\n",
        "import seaborn as sns\n",
        "from sklearn import preprocessing\n",
        "from sklearn.model_selection import train_test_split "
      ]
    },
    {
      "cell_type": "code",
      "execution_count": null,
      "id": "careful-pilot",
      "metadata": {
        "execution": {
          "iopub.execute_input": "2021-06-11T07:02:13.423576Z",
          "iopub.status.busy": "2021-06-11T07:02:13.422985Z",
          "iopub.status.idle": "2021-06-11T07:02:28.927811Z",
          "shell.execute_reply": "2021-06-11T07:02:28.926960Z",
          "shell.execute_reply.started": "2021-06-11T06:49:53.664354Z"
        },
        "papermill": {
          "duration": 15.525815,
          "end_time": "2021-06-11T07:02:28.928020",
          "exception": false,
          "start_time": "2021-06-11T07:02:13.402205",
          "status": "completed"
        },
        "tags": [],
        "colab": {
          "base_uri": "https://localhost:8080/"
        },
        "id": "careful-pilot",
        "outputId": "b71358f8-2e92-47c1-eca0-c06cf6d85a65"
      },
      "outputs": [
        {
          "output_type": "stream",
          "name": "stdout",
          "text": [
            "Index(['train_id', 'name', 'item_condition_id', 'category_name', 'brand_name',\n",
            "       'price', 'shipping', 'item_description'],\n",
            "      dtype='object')\n",
            "259456\n",
            "Index(['test_id', 'name', 'item_condition_id', 'category_name', 'brand_name',\n",
            "       'shipping', 'item_description'],\n",
            "      dtype='object')\n",
            "231224\n"
          ]
        }
      ],
      "source": [
        "# READ DATA\n",
        "train = pd.read_csv('train.tsv', sep='\\t')\n",
        "test = pd.read_csv('test.tsv', sep='\\t')\n",
        "print(train.columns)\n",
        "print(train.size)\n",
        "print(test.columns)\n",
        "print(test.size)"
      ]
    },
    {
      "cell_type": "markdown",
      "id": "brief-reminder",
      "metadata": {
        "papermill": {
          "duration": 0.016066,
          "end_time": "2021-06-11T07:02:28.962437",
          "exception": false,
          "start_time": "2021-06-11T07:02:28.946371",
          "status": "completed"
        },
        "tags": [],
        "id": "brief-reminder"
      },
      "source": [
        "# PREPROCESSING"
      ]
    },
    {
      "cell_type": "code",
      "execution_count": null,
      "id": "unlikely-interview",
      "metadata": {
        "execution": {
          "iopub.execute_input": "2021-06-11T07:02:29.005052Z",
          "iopub.status.busy": "2021-06-11T07:02:29.004317Z",
          "iopub.status.idle": "2021-06-11T07:02:32.440921Z",
          "shell.execute_reply": "2021-06-11T07:02:32.441396Z",
          "shell.execute_reply.started": "2021-06-11T06:50:08.647107Z"
        },
        "papermill": {
          "duration": 3.462703,
          "end_time": "2021-06-11T07:02:32.441569",
          "exception": false,
          "start_time": "2021-06-11T07:02:28.978866",
          "status": "completed"
        },
        "tags": [],
        "colab": {
          "base_uri": "https://localhost:8080/"
        },
        "id": "unlikely-interview",
        "outputId": "f0bd5f3c-9c8a-41f1-f7f2-5042554e7aba"
      },
      "outputs": [
        {
          "output_type": "stream",
          "name": "stdout",
          "text": [
            "0\n",
            "0\n"
          ]
        }
      ],
      "source": [
        "print(format(sum(train.duplicated())))\n",
        "print(format(sum(test.duplicated())))\n",
        "# No duplications"
      ]
    },
    {
      "cell_type": "code",
      "execution_count": null,
      "id": "gentle-julian",
      "metadata": {
        "execution": {
          "iopub.execute_input": "2021-06-11T07:02:32.480510Z",
          "iopub.status.busy": "2021-06-11T07:02:32.479869Z",
          "iopub.status.idle": "2021-06-11T07:02:33.330115Z",
          "shell.execute_reply": "2021-06-11T07:02:33.329615Z",
          "shell.execute_reply.started": "2021-06-11T06:50:12.346154Z"
        },
        "papermill": {
          "duration": 0.871215,
          "end_time": "2021-06-11T07:02:33.330273",
          "exception": false,
          "start_time": "2021-06-11T07:02:32.459058",
          "status": "completed"
        },
        "tags": [],
        "id": "gentle-julian"
      },
      "outputs": [],
      "source": [
        "train[\"brand_name\"] = train[\"brand_name\"].fillna(\"unknown\")\n",
        "train[\"item_description\"] = train[\"item_description\"].fillna(\"None\")\n",
        "train[\"brand_name\"] = train[\"brand_name\"].astype(\"category\")\n",
        "\n",
        "test[\"brand_name\"] = test[\"brand_name\"].fillna(\"unknown\")\n",
        "test[\"item_description\"] = test[\"item_description\"].fillna(\"None\")\n",
        "test[\"brand_name\"] = test[\"brand_name\"].astype(\"category\")\n",
        "# Deal with null values to not trip the algorithms"
      ]
    },
    {
      "cell_type": "code",
      "execution_count": null,
      "id": "extreme-rebound",
      "metadata": {
        "execution": {
          "iopub.execute_input": "2021-06-11T07:02:33.376463Z",
          "iopub.status.busy": "2021-06-11T07:02:33.375782Z",
          "iopub.status.idle": "2021-06-11T07:02:33.378207Z",
          "shell.execute_reply": "2021-06-11T07:02:33.378633Z",
          "shell.execute_reply.started": "2021-06-11T06:50:13.344535Z"
        },
        "papermill": {
          "duration": 0.030833,
          "end_time": "2021-06-11T07:02:33.378828",
          "exception": false,
          "start_time": "2021-06-11T07:02:33.347995",
          "status": "completed"
        },
        "tags": [],
        "id": "extreme-rebound"
      },
      "outputs": [],
      "source": [
        "# Borrowed utilities\n",
        "# Split category field to distinct categories\n",
        "def split_cat(text):\n",
        "    try: return text.split(\"/\")\n",
        "    except: return (\"NULL\", \"NULL\", \"NULL\")\n",
        "    \n",
        "def create_split_categories(data):\n",
        "    data['main_category'],data['subcat_1'],data['subcat_2']=zip(*data['category_name'].apply(lambda x: split_cat(x)))\n",
        "\n",
        "# Encode textual data to numerical\n",
        "def toNumeric(frame, data,to):\n",
        "    le = preprocessing.LabelEncoder()\n",
        "    frame[to] = le.fit_transform(frame[data].astype(str))\n",
        "    \n",
        "def split_cat_encoder(frame):\n",
        "    toNumeric(frame, 'main_category', 'main_category' )\n",
        "    toNumeric(frame, 'subcat_1', 'subcat_1' )\n",
        "    toNumeric(frame, 'subcat_2', 'subcat_2' )\n",
        "    \n",
        "def data_frame_encoder(frame):\n",
        "    toNumeric(frame, 'category_name', 'category_name' )\n",
        "    toNumeric(frame, 'item_description', 'item_description' )\n",
        "    toNumeric(frame, 'name', 'name' )\n",
        "    toNumeric(frame, 'brand_name', 'brand_name' )\n",
        "    \n",
        "# Perform categorization based on logarithmic scaled price field\n",
        "def divide_cats(data):\n",
        "    if(0<= data <=1):\n",
        "        return \"1\"\n",
        "    if(1 < data <= 2):\n",
        "        return \"2\"\n",
        "    if(2 < data <= 3):\n",
        "        return \"3\"\n",
        "    if(3 < data <= 4):\n",
        "        return \"4\"\n",
        "    if(4 < data <= 5):\n",
        "        return \"5\"\n",
        "    if(5< data <=6):\n",
        "        return \"6\"\n",
        "    if(6 < data <= 7):\n",
        "        return \"7\"\n",
        "    return \"0\""
      ]
    },
    {
      "cell_type": "code",
      "execution_count": null,
      "id": "identical-shift",
      "metadata": {
        "execution": {
          "iopub.execute_input": "2021-06-11T07:02:45.304236Z",
          "iopub.status.busy": "2021-06-11T07:02:45.303505Z",
          "iopub.status.idle": "2021-06-11T07:02:45.307028Z",
          "shell.execute_reply": "2021-06-11T07:02:45.307677Z",
          "shell.execute_reply.started": "2021-06-10T14:47:06.514429Z"
        },
        "papermill": {
          "duration": 0.026203,
          "end_time": "2021-06-11T07:02:45.307920",
          "exception": false,
          "start_time": "2021-06-11T07:02:45.281717",
          "status": "completed"
        },
        "tags": [],
        "colab": {
          "base_uri": "https://localhost:8080/"
        },
        "id": "identical-shift",
        "outputId": "2ba67bd5-aeec-46a4-dd3f-fed8ea891207"
      },
      "outputs": [
        {
          "output_type": "stream",
          "name": "stdout",
          "text": [
            "Index(['train_id', 'name', 'item_condition_id', 'category_name', 'brand_name',\n",
            "       'price', 'shipping', 'item_description', 'main_category', 'subcat_1',\n",
            "       'subcat_2'],\n",
            "      dtype='object')\n",
            "Index(['test_id', 'name', 'item_condition_id', 'category_name', 'brand_name',\n",
            "       'shipping', 'item_description'],\n",
            "      dtype='object')\n"
          ]
        }
      ],
      "source": [
        "print(train.columns)\n",
        "print(test.columns)"
      ]
    },
    {
      "cell_type": "code",
      "execution_count": null,
      "id": "integral-fortune",
      "metadata": {
        "execution": {
          "iopub.execute_input": "2021-06-11T07:03:10.778976Z",
          "iopub.status.busy": "2021-06-11T07:03:10.778307Z",
          "iopub.status.idle": "2021-06-11T07:03:10.797692Z",
          "shell.execute_reply": "2021-06-11T07:03:10.798387Z",
          "shell.execute_reply.started": "2021-06-11T01:10:16.032843Z"
        },
        "papermill": {
          "duration": 0.04306,
          "end_time": "2021-06-11T07:03:10.798583",
          "exception": false,
          "start_time": "2021-06-11T07:03:10.755523",
          "status": "completed"
        },
        "tags": [],
        "id": "integral-fortune",
        "outputId": "0b4fb4bd-c2ef-404d-dfd0-26222fc2f09c"
      },
      "outputs": [
        {
          "data": {
            "text/html": [
              "<div>\n",
              "<style scoped>\n",
              "    .dataframe tbody tr th:only-of-type {\n",
              "        vertical-align: middle;\n",
              "    }\n",
              "\n",
              "    .dataframe tbody tr th {\n",
              "        vertical-align: top;\n",
              "    }\n",
              "\n",
              "    .dataframe thead th {\n",
              "        text-align: right;\n",
              "    }\n",
              "</style>\n",
              "<table border=\"1\" class=\"dataframe\">\n",
              "  <thead>\n",
              "    <tr style=\"text-align: right;\">\n",
              "      <th></th>\n",
              "      <th>train_id</th>\n",
              "      <th>name</th>\n",
              "      <th>item_condition_id</th>\n",
              "      <th>category_name</th>\n",
              "      <th>brand_name</th>\n",
              "      <th>price</th>\n",
              "      <th>shipping</th>\n",
              "      <th>item_description</th>\n",
              "      <th>main_category</th>\n",
              "      <th>subcat_1</th>\n",
              "      <th>subcat_2</th>\n",
              "      <th>price_log_scaled</th>\n",
              "      <th>price_cat</th>\n",
              "    </tr>\n",
              "  </thead>\n",
              "  <tbody>\n",
              "    <tr>\n",
              "      <th>0</th>\n",
              "      <td>0</td>\n",
              "      <td>640809</td>\n",
              "      <td>3</td>\n",
              "      <td>808</td>\n",
              "      <td>4807</td>\n",
              "      <td>10.0</td>\n",
              "      <td>1</td>\n",
              "      <td>806610</td>\n",
              "      <td>5</td>\n",
              "      <td>103</td>\n",
              "      <td>763</td>\n",
              "      <td>2.302585</td>\n",
              "      <td>3</td>\n",
              "    </tr>\n",
              "    <tr>\n",
              "      <th>1</th>\n",
              "      <td>1</td>\n",
              "      <td>903932</td>\n",
              "      <td>3</td>\n",
              "      <td>86</td>\n",
              "      <td>3557</td>\n",
              "      <td>52.0</td>\n",
              "      <td>0</td>\n",
              "      <td>1090878</td>\n",
              "      <td>1</td>\n",
              "      <td>30</td>\n",
              "      <td>212</td>\n",
              "      <td>3.951244</td>\n",
              "      <td>4</td>\n",
              "    </tr>\n",
              "    <tr>\n",
              "      <th>2</th>\n",
              "      <td>2</td>\n",
              "      <td>91532</td>\n",
              "      <td>1</td>\n",
              "      <td>1254</td>\n",
              "      <td>4180</td>\n",
              "      <td>10.0</td>\n",
              "      <td>1</td>\n",
              "      <td>115289</td>\n",
              "      <td>10</td>\n",
              "      <td>104</td>\n",
              "      <td>94</td>\n",
              "      <td>2.302585</td>\n",
              "      <td>3</td>\n",
              "    </tr>\n",
              "    <tr>\n",
              "      <th>3</th>\n",
              "      <td>3</td>\n",
              "      <td>561143</td>\n",
              "      <td>1</td>\n",
              "      <td>485</td>\n",
              "      <td>4807</td>\n",
              "      <td>35.0</td>\n",
              "      <td>1</td>\n",
              "      <td>782305</td>\n",
              "      <td>3</td>\n",
              "      <td>55</td>\n",
              "      <td>404</td>\n",
              "      <td>3.555348</td>\n",
              "      <td>4</td>\n",
              "    </tr>\n",
              "    <tr>\n",
              "      <th>4</th>\n",
              "      <td>4</td>\n",
              "      <td>45483</td>\n",
              "      <td>1</td>\n",
              "      <td>1181</td>\n",
              "      <td>4807</td>\n",
              "      <td>44.0</td>\n",
              "      <td>0</td>\n",
              "      <td>366652</td>\n",
              "      <td>10</td>\n",
              "      <td>58</td>\n",
              "      <td>537</td>\n",
              "      <td>3.784190</td>\n",
              "      <td>4</td>\n",
              "    </tr>\n",
              "  </tbody>\n",
              "</table>\n",
              "</div>"
            ],
            "text/plain": [
              "   train_id    name  item_condition_id  category_name  brand_name  price  \\\n",
              "0         0  640809                  3            808        4807   10.0   \n",
              "1         1  903932                  3             86        3557   52.0   \n",
              "2         2   91532                  1           1254        4180   10.0   \n",
              "3         3  561143                  1            485        4807   35.0   \n",
              "4         4   45483                  1           1181        4807   44.0   \n",
              "\n",
              "   shipping  item_description  main_category  subcat_1  subcat_2  \\\n",
              "0         1            806610              5       103       763   \n",
              "1         0           1090878              1        30       212   \n",
              "2         1            115289             10       104        94   \n",
              "3         1            782305              3        55       404   \n",
              "4         0            366652             10        58       537   \n",
              "\n",
              "   price_log_scaled price_cat  \n",
              "0          2.302585         3  \n",
              "1          3.951244         4  \n",
              "2          2.302585         3  \n",
              "3          3.555348         4  \n",
              "4          3.784190         4  "
            ]
          },
          "execution_count": 9,
          "metadata": {},
          "output_type": "execute_result"
        }
      ],
      "source": [
        "train.head()\n",
        "# Nice table full of numbers"
      ]
    },
    {
      "cell_type": "markdown",
      "id": "distinguished-institute",
      "metadata": {
        "papermill": {
          "duration": 0.017069,
          "end_time": "2021-06-11T07:03:10.833163",
          "exception": false,
          "start_time": "2021-06-11T07:03:10.816094",
          "status": "completed"
        },
        "tags": [],
        "id": "distinguished-institute"
      },
      "source": [
        "# DATA VISUALISATION"
      ]
    },
    {
      "cell_type": "code",
      "execution_count": null,
      "id": "photographic-chain",
      "metadata": {
        "execution": {
          "iopub.execute_input": "2021-06-11T07:03:10.876545Z",
          "iopub.status.busy": "2021-06-11T07:03:10.875924Z",
          "iopub.status.idle": "2021-06-11T07:03:12.051032Z",
          "shell.execute_reply": "2021-06-11T07:03:12.050421Z",
          "shell.execute_reply.started": "2021-06-11T06:51:00.390182Z"
        },
        "papermill": {
          "duration": 1.199448,
          "end_time": "2021-06-11T07:03:12.051167",
          "exception": false,
          "start_time": "2021-06-11T07:03:10.851719",
          "status": "completed"
        },
        "tags": [],
        "colab": {
          "base_uri": "https://localhost:8080/",
          "height": 696
        },
        "id": "photographic-chain",
        "outputId": "d83615d9-90db-43af-d8d8-d6b05e639d37"
      },
      "outputs": [
        {
          "output_type": "stream",
          "name": "stdout",
          "text": [
            "Price range:  $ 0.0 - $ 1506.0\n"
          ]
        },
        {
          "output_type": "stream",
          "name": "stderr",
          "text": [
            "/usr/local/lib/python3.9/dist-packages/seaborn/_decorators.py:36: FutureWarning: Pass the following variable as a keyword arg: x. From version 0.12, the only valid positional argument will be `data`, and passing other arguments without an explicit keyword will result in an error or misinterpretation.\n",
            "  warnings.warn(\n"
          ]
        },
        {
          "output_type": "display_data",
          "data": {
            "text/plain": [
              "<Figure size 1080x720 with 2 Axes>"
            ],
            "image/png": "[encoded data removed]"
          },
          "metadata": {
            "needs_background": "light"
          }
        }
      ],
      "source": [
        "print(\"Price range: \",'$',train[\"price\"].min(), '-','$',train[\"price\"].max())\n",
        "fig, ax = plt.subplots(2, 1, figsize=(15,10))\n",
        "ax[0].hist(train.price, bins = 200, range = [min(train.price), max(train.price)], label = \"price\")\n",
        "ax[0].set_title(\"Histogram\")\n",
        "ax[0].set_xlabel(\"POS Price\")\n",
        "ax[0].set_ylabel(\"Frequency\")\n",
        "sns.boxplot(train.price, ax=ax[1])\n",
        "ax[1].set_title(\"Box Plot\")\n",
        "plt.show()"
      ]
    },
    {
      "cell_type": "markdown",
      "id": "unlimited-swing",
      "metadata": {
        "papermill": {
          "duration": 0.019915,
          "end_time": "2021-06-11T07:03:13.095814",
          "exception": false,
          "start_time": "2021-06-11T07:03:13.075899",
          "status": "completed"
        },
        "tags": [],
        "id": "unlimited-swing"
      },
      "source": [
        "# Logarithmically scaled sale price is more evenly distributed. This will be used for training phase."
      ]
    },
    {
      "cell_type": "code",
      "execution_count": null,
      "id": "upper-huntington",
      "metadata": {
        "execution": {
          "iopub.execute_input": "2021-06-11T07:03:13.149390Z",
          "iopub.status.busy": "2021-06-11T07:03:13.148674Z",
          "iopub.status.idle": "2021-06-11T07:03:15.174624Z",
          "shell.execute_reply": "2021-06-11T07:03:15.175112Z",
          "shell.execute_reply.started": "2021-06-11T06:51:02.937143Z"
        },
        "papermill": {
          "duration": 2.057925,
          "end_time": "2021-06-11T07:03:15.175304",
          "exception": false,
          "start_time": "2021-06-11T07:03:13.117379",
          "status": "completed"
        },
        "tags": [],
        "id": "upper-huntington",
        "outputId": "772f2db2-51cc-44b1-cc98-e438b8f62e20"
      },
      "outputs": [
        {
          "name": "stdout",
          "output_type": "stream",
          "text": [
            "4810 Unique brands\n"
          ]
        },
        {
          "name": "stderr",
          "output_type": "stream",
          "text": [
            "/opt/conda/lib/python3.7/site-packages/seaborn/_decorators.py:43: FutureWarning: Pass the following variables as keyword args: x, y. From version 0.12, the only valid positional argument will be `data`, and passing other arguments without an explicit keyword will result in an error or misinterpretation.\n",
            "  FutureWarning\n"
          ]
        },
        {
          "data": {
            "image/png": "[encoded data removed]",
            "text/plain": [
              "<Figure size 1080x720 with 2 Axes>"
            ]
          },
          "metadata": {
            "needs_background": "light"
          },
          "output_type": "display_data"
        }
      ],
      "source": [
        "print(train['brand_name'].value_counts().size, \"Unique brands\") # No of unique brands\n",
        "brands_key = []\n",
        "for i in range(0,5):\n",
        "    brands_key.append(train['brand_name'].value_counts()[1:6].keys()[i])\n",
        "fig, ax = plt.subplots(2, 1, figsize = (15, 10))\n",
        "sns.barplot(train['brand_name'].value_counts()[1:6].values, brands_key , ax = ax[0])\n",
        "f1 = train['price_log_scaled'].values\n",
        "f2 = train['brand_name'].values\n",
        "\n",
        "ax[1].set_title(\"Scatter plot\")\n",
        "ax[1].scatter(f1, f2, s=10)\n",
        "ax[0].set_xlabel(\"Count\")\n",
        "ax[0].set_ylabel(\"Brand\")\n",
        "ax[1].set_xlabel(\"Price logarithmic scale\")\n",
        "ax[1].set_ylabel(\"Brand\")\n",
        "plt.show()\n"
      ]
    },
    {
      "cell_type": "markdown",
      "id": "compound-romantic",
      "metadata": {
        "papermill": {
          "duration": 0.023709,
          "end_time": "2021-06-11T07:03:15.222003",
          "exception": false,
          "start_time": "2021-06-11T07:03:15.198294",
          "status": "completed"
        },
        "tags": [],
        "id": "compound-romantic"
      },
      "source": [
        "Not sure what to make of this"
      ]
    },
    {
      "cell_type": "code",
      "execution_count": null,
      "id": "dressed-value",
      "metadata": {
        "execution": {
          "iopub.execute_input": "2021-06-11T07:03:15.318700Z",
          "iopub.status.busy": "2021-06-11T07:03:15.295853Z",
          "iopub.status.idle": "2021-06-11T07:03:18.735696Z",
          "shell.execute_reply": "2021-06-11T07:03:18.734735Z",
          "shell.execute_reply.started": "2021-06-11T06:51:04.981576Z"
        },
        "papermill": {
          "duration": 3.487933,
          "end_time": "2021-06-11T07:03:18.735922",
          "exception": false,
          "start_time": "2021-06-11T07:03:15.247989",
          "status": "completed"
        },
        "tags": [],
        "id": "dressed-value",
        "outputId": "228400e6-fda5-48d8-bfb3-b5830d2df1b0"
      },
      "outputs": [
        {
          "name": "stderr",
          "output_type": "stream",
          "text": [
            "/opt/conda/lib/python3.7/site-packages/seaborn/_decorators.py:43: FutureWarning: Pass the following variable as a keyword arg: x. From version 0.12, the only valid positional argument will be `data`, and passing other arguments without an explicit keyword will result in an error or misinterpretation.\n",
            "  FutureWarning\n"
          ]
        },
        {
          "data": {
            "image/png": "[encoded data removed]",
            "text/plain": [
              "<Figure size 1080x720 with 3 Axes>"
            ]
          },
          "metadata": {
            "needs_background": "light"
          },
          "output_type": "display_data"
        }
      ],
      "source": [
        "fig, ax = plt.subplots(3, 1, figsize = (15,10))\n",
        "sns.countplot(train.shipping, ax = ax[0])\n",
        "rectangles = ax[0].patches\n",
        "labels = train.shipping.value_counts().values\n",
        "for rect, label in zip(rectangles, labels):\n",
        "    height = rect.get_height()\n",
        "    ax[0].text(rect.get_x() + rect.get_width()/2, height + 5, label, ha = \"center\", va = \"bottom\")\n",
        "sns.boxplot(x = train.shipping, y = train.price_log_scaled,showfliers = False, orient = \"v\", ax = ax[1])\n",
        "ax[2].scatter(x = train.price_log_scaled, y = train.shipping,alpha=0.9)\n",
        "ax[2].set_xlabel(\" Shipping \", fontsize = 10)\n",
        "ax[2].set_ylabel(\" Price logarithmic scale\", fontsize = 10)\n",
        "plt.show()"
      ]
    },
    {
      "cell_type": "markdown",
      "id": "after-darkness",
      "metadata": {
        "papermill": {
          "duration": 0.025156,
          "end_time": "2021-06-11T07:03:18.793758",
          "exception": false,
          "start_time": "2021-06-11T07:03:18.768602",
          "status": "completed"
        },
        "tags": [],
        "id": "after-darkness"
      },
      "source": [
        "# Picking models and training"
      ]
    },
    {
      "cell_type": "code",
      "source": [],
      "metadata": {
        "id": "DaA_Kt1pkO6z"
      },
      "id": "DaA_Kt1pkO6z",
      "execution_count": null,
      "outputs": []
    },
    {
      "cell_type": "markdown",
      "id": "single-merit",
      "metadata": {
        "papermill": {
          "duration": 0.024514,
          "end_time": "2021-06-11T07:03:18.850522",
          "exception": false,
          "start_time": "2021-06-11T07:03:18.826008",
          "status": "completed"
        },
        "tags": [],
        "id": "single-merit"
      },
      "source": [
        "# Random forest regression"
      ]
    },
    {
      "cell_type": "code",
      "execution_count": null,
      "id": "wicked-scanning",
      "metadata": {
        "execution": {
          "iopub.execute_input": "2021-06-11T07:03:18.910251Z",
          "iopub.status.busy": "2021-06-11T07:03:18.908245Z",
          "iopub.status.idle": "2021-06-11T07:03:19.499618Z",
          "shell.execute_reply": "2021-06-11T07:03:19.498985Z",
          "shell.execute_reply.started": "2021-06-11T06:51:08.428317Z"
        },
        "papermill": {
          "duration": 0.622564,
          "end_time": "2021-06-11T07:03:19.499766",
          "exception": false,
          "start_time": "2021-06-11T07:03:18.877202",
          "status": "completed"
        },
        "tags": [],
        "id": "wicked-scanning"
      },
      "outputs": [],
      "source": [
        "X_train_rf = train.drop(['price', 'price_log_scaled', 'price_cat'], axis=1)\n",
        "Y_train_rf = train['price_log_scaled']\n",
        "X_train, X_test, Y_train, Y_test = train_test_split(X_train_rf, Y_train_rf, test_size=0.1, random_state=0)"
      ]
    },
    {
      "cell_type": "code",
      "execution_count": null,
      "id": "backed-official",
      "metadata": {
        "execution": {
          "iopub.execute_input": "2021-06-11T07:03:19.559690Z",
          "iopub.status.busy": "2021-06-11T07:03:19.558554Z",
          "iopub.status.idle": "2021-06-11T07:03:19.561293Z",
          "shell.execute_reply": "2021-06-11T07:03:19.561751Z",
          "shell.execute_reply.started": "2021-06-10T14:47:45.608092Z"
        },
        "papermill": {
          "duration": 0.035046,
          "end_time": "2021-06-11T07:03:19.561956",
          "exception": false,
          "start_time": "2021-06-11T07:03:19.526910",
          "status": "completed"
        },
        "tags": [],
        "id": "backed-official"
      },
      "outputs": [],
      "source": [
        " from sklearn.ensemble import RandomForestRegressor\n",
        " randomforest = RandomForestRegressor(n_jobs=-1, min_samples_leaf=10, n_estimators=200)\n",
        " randomforest.fit(X_train, Y_train)"
      ]
    },
    {
      "cell_type": "code",
      "execution_count": null,
      "id": "hollywood-capture",
      "metadata": {
        "execution": {
          "iopub.execute_input": "2021-06-11T07:03:19.617907Z",
          "iopub.status.busy": "2021-06-11T07:03:19.616828Z",
          "iopub.status.idle": "2021-06-11T07:03:19.621286Z",
          "shell.execute_reply": "2021-06-11T07:03:19.622173Z",
          "shell.execute_reply.started": "2021-06-10T14:48:28.72487Z"
        },
        "papermill": {
          "duration": 0.034125,
          "end_time": "2021-06-11T07:03:19.622382",
          "exception": false,
          "start_time": "2021-06-11T07:03:19.588257",
          "status": "completed"
        },
        "tags": [],
        "id": "hollywood-capture"
      },
      "outputs": [],
      "source": [
        " train_predict = randomforest.predict(X_train)\n",
        " validation_predict = randomforest.predict(X_test)\n",
        " table = [['Score', 'Training', 'Valdation'], \n",
        "          ['MSE', '{} '.format(round((mean_squared_error(Y_train, train_predict)), 5)), '{} '.format(round((mean_squared_error(Y_test, validation_predict)), 5))], \n",
        "          ['RMSE', '{} '.format(round((np.sqrt(mean_squared_error(Y_train, train_predict))), 2)), '{} '.format(np.sqrt(round((mean_squared_error(Y_test, validation_predict)), 5)))], \n",
        "          ['R2_Score', '{} '.format(round((r2_score(Y_train, train_predict)), 5)), '{} '.format(round((r2_score(Y_test, validation_predict)), 5))]]\n",
        " print(tabulate(table, headers='firstrow', tablefmt='grid'))"
      ]
    },
    {
      "cell_type": "markdown",
      "id": "attached-cheat",
      "metadata": {
        "papermill": {
          "duration": 0.02451,
          "end_time": "2021-06-11T07:03:19.674577",
          "exception": false,
          "start_time": "2021-06-11T07:03:19.650067",
          "status": "completed"
        },
        "tags": [],
        "id": "attached-cheat"
      },
      "source": [
        "# Looks ok I guess?\n",
        "Training took solid 5 minutes"
      ]
    },
    {
      "cell_type": "markdown",
      "id": "conventional-camcorder",
      "metadata": {
        "papermill": {
          "duration": 0.024412,
          "end_time": "2021-06-11T07:03:19.724391",
          "exception": false,
          "start_time": "2021-06-11T07:03:19.699979",
          "status": "completed"
        },
        "tags": [],
        "id": "conventional-camcorder"
      },
      "source": [
        "# Trying LightGBM instead"
      ]
    },
    {
      "cell_type": "code",
      "execution_count": null,
      "id": "republican-transaction",
      "metadata": {
        "execution": {
          "iopub.execute_input": "2021-06-11T07:03:19.784158Z",
          "iopub.status.busy": "2021-06-11T07:03:19.783337Z",
          "iopub.status.idle": "2021-06-11T07:04:25.289423Z",
          "shell.execute_reply": "2021-06-11T07:04:25.290200Z",
          "shell.execute_reply.started": "2021-06-11T06:51:08.945852Z"
        },
        "papermill": {
          "duration": 65.54006,
          "end_time": "2021-06-11T07:04:25.290451",
          "exception": false,
          "start_time": "2021-06-11T07:03:19.750391",
          "status": "completed"
        },
        "tags": [],
        "id": "republican-transaction",
        "outputId": "123366a0-6704-4594-bf5d-d943807d9169"
      },
      "outputs": [
        {
          "data": {
            "text/html": [
              "<style type='text/css'>\n",
              ".datatable table.frame { margin-bottom: 0; }\n",
              ".datatable table.frame thead { border-bottom: none; }\n",
              ".datatable table.frame tr.coltypes td {  color: #FFFFFF;  line-height: 6px;  padding: 0 0.5em;}\n",
              ".datatable .bool    { background: #DDDD99; }\n",
              ".datatable .object  { background: #565656; }\n",
              ".datatable .int     { background: #5D9E5D; }\n",
              ".datatable .float   { background: #4040CC; }\n",
              ".datatable .str     { background: #CC4040; }\n",
              ".datatable .row_index {  background: var(--jp-border-color3);  border-right: 1px solid var(--jp-border-color0);  color: var(--jp-ui-font-color3);  font-size: 9px;}\n",
              ".datatable .frame tr.coltypes .row_index {  background: var(--jp-border-color0);}\n",
              ".datatable th:nth-child(2) { padding-left: 12px; }\n",
              ".datatable .hellipsis {  color: var(--jp-cell-editor-border-color);}\n",
              ".datatable .vellipsis {  background: var(--jp-layout-color0);  color: var(--jp-cell-editor-border-color);}\n",
              ".datatable .na {  color: var(--jp-cell-editor-border-color);  font-size: 80%;}\n",
              ".datatable .footer { font-size: 9px; }\n",
              ".datatable .frame_dimensions {  background: var(--jp-border-color3);  border-top: 1px solid var(--jp-border-color0);  color: var(--jp-ui-font-color3);  display: inline-block;  opacity: 0.6;  padding: 1px 10px 1px 5px;}\n",
              "</style>\n"
            ],
            "text/plain": [
              "<IPython.core.display.HTML object>"
            ]
          },
          "metadata": {},
          "output_type": "display_data"
        },
        {
          "name": "stdout",
          "output_type": "stream",
          "text": [
            "+----------+------------+-------------+\n",
            "| Score    |   Training |   Valdation |\n",
            "+==========+============+=============+\n",
            "| MSE      |    0.29907 |     0.31944 |\n",
            "+----------+------------+-------------+\n",
            "| RMSE     |    0.55    |     0.56519 |\n",
            "+----------+------------+-------------+\n",
            "| R2_Score |    0.52381 |     0.48332 |\n",
            "+----------+------------+-------------+\n"
          ]
        }
      ],
      "source": [
        "import lightgbm as lgb\n",
        "from tabulate import tabulate\n",
        "\n",
        "from sklearn.metrics import mean_squared_error, r2_score\n",
        "lgbregressor = lgb.LGBMRegressor(objective='regression', num_leaves=100, learning_rate=0.2, n_estimators=500, boosting_type='goss')                                \n",
        "lgbregressor.fit(X_train, Y_train)\n",
        "train_predict = lgbregressor.predict(X_train)\n",
        "validation_predict = lgbregressor.predict(X_test)\n",
        "table = [['Score', 'Training', 'Valdation'], \n",
        "         ['MSE', '{} '.format(round((mean_squared_error(Y_train, train_predict)), 5)), '{} '.format(round((mean_squared_error(Y_test, validation_predict)), 5))], \n",
        "         ['RMSE', '{} '.format(round((np.sqrt(mean_squared_error(Y_train, train_predict))), 2)), '{} '.format(np.sqrt(round((mean_squared_error(Y_test, validation_predict)), 5)))], \n",
        "         ['R2_Score', '{} '.format(round((r2_score(Y_train, train_predict)), 5)), '{} '.format(round((r2_score(Y_test, validation_predict)), 5))]]\n",
        "print(tabulate(table, headers='firstrow', tablefmt='grid'))"
      ]
    },
    {
      "cell_type": "markdown",
      "id": "clean-locking",
      "metadata": {
        "papermill": {
          "duration": 0.024718,
          "end_time": "2021-06-11T07:04:25.341406",
          "exception": false,
          "start_time": "2021-06-11T07:04:25.316688",
          "status": "completed"
        },
        "tags": [],
        "id": "clean-locking"
      },
      "source": [
        "Training time is reduced significantly ~20 times faster\n",
        "\n",
        "Some tweakings required"
      ]
    },
    {
      "cell_type": "markdown",
      "id": "placed-danish",
      "metadata": {
        "papermill": {
          "duration": 0.025973,
          "end_time": "2021-06-11T07:04:25.394445",
          "exception": false,
          "start_time": "2021-06-11T07:04:25.368472",
          "status": "completed"
        },
        "tags": [],
        "id": "placed-danish"
      },
      "source": [
        "# Predict test.tsv"
      ]
    },
    {
      "cell_type": "code",
      "execution_count": null,
      "id": "surrounded-support",
      "metadata": {
        "execution": {
          "iopub.execute_input": "2021-06-11T07:04:25.458569Z",
          "iopub.status.busy": "2021-06-11T07:04:25.453479Z",
          "iopub.status.idle": "2021-06-11T07:04:47.526308Z",
          "shell.execute_reply": "2021-06-11T07:04:47.526753Z",
          "shell.execute_reply.started": "2021-06-11T06:52:21.429821Z"
        },
        "papermill": {
          "duration": 22.107133,
          "end_time": "2021-06-11T07:04:47.526963",
          "exception": false,
          "start_time": "2021-06-11T07:04:25.419830",
          "status": "completed"
        },
        "tags": [],
        "id": "surrounded-support",
        "outputId": "495b65fc-e34c-40db-dfb2-212e6c0250dc"
      },
      "outputs": [
        {
          "name": "stdout",
          "output_type": "stream",
          "text": [
            "mercari  mercari-price-suggestion-challenge\r\n",
            "\r\n",
            "\r\n",
            "\r\n",
            "Suggested packages:\r\n",
            "  p7zip-full\r\n",
            "The following NEW packages will be installed:\r\n",
            "  p7zip\r\n",
            "0 upgraded, 1 newly installed, 0 to remove and 15 not upgraded.\r\n",
            "Need to get 358 kB of archives.\r\n",
            "After this operation, 996 kB of additional disk space will be used.\r\n",
            "Get:1 http://archive.ubuntu.com/ubuntu bionic/universe amd64 p7zip amd64 16.02+dfsg-6 [358 kB]\r\n",
            "Fetched 358 kB in 2s (197 kB/s)\r\n",
            "debconf: delaying package configuration, since apt-utils is not installed\r\n",
            "Selecting previously unselected package p7zip.\r\n",
            "(Reading database ... 95327 files and directories currently installed.)\r\n",
            "Preparing to unpack .../p7zip_16.02+dfsg-6_amd64.deb ...\r\n",
            "Unpacking p7zip (16.02+dfsg-6) ...\r\n",
            "Setting up p7zip (16.02+dfsg-6) ...\r\n",
            "\r\n",
            "7-Zip (a) [64] 16.02 : Copyright (c) 1999-2016 Igor Pavlov : 2016-05-21\r\n",
            "p7zip Version 16.02 (locale=C.UTF-8,Utf16=on,HugeFiles=on,64 bits,4 CPUs Intel(R) Xeon(R) CPU @ 2.20GHz (406F0),ASM,AES-NI)\r\n",
            "\r\n",
            "Scanning the drive for archives:\r\n",
            "  0M Scan /kaggle/input/mercari-price-suggestion-challenge/\b\b\b\b\b\b\b\b\b\b\b\b\b\b\b\b\b\b\b\b\b\b\b\b\b\b\b\b\b\b\b\b\b\b\b\b\b\b\b\b\b\b\b\b\b\b\b\b\b\b\b\b\b\b\b\b\b\b\b                                                           \b\b\b\b\b\b\b\b\b\b\b\b\b\b\b\b\b\b\b\b\b\b\b\b\b\b\b\b\b\b\b\b\b\b\b\b\b\b\b\b\b\b\b\b\b\b\b\b\b\b\b\b\b\b\b\b\b\b\b1 file, 77912192 bytes (75 MiB)\r\n",
            "\r\n",
            "Extracting archive: /kaggle/input/mercari-price-suggestion-challenge/train.tsv.7z\r\n",
            "--\r\n",
            "Path = /kaggle/input/mercari-price-suggestion-challenge/train.tsv.7z\r\n",
            "Type = 7z\r\n",
            "Physical Size = 77912192\r\n",
            "Headers Size = 122\r\n",
            "Method = LZMA2:24\r\n",
            "Solid = -\r\n",
            "Blocks = 1\r\n",
            "\r\n",
            "  0%\b\b\b\b    \b\b\b\b  2% - train.tsv\b\b\b\b\b\b\b\b\b\b\b\b\b\b\b\b                \b\b\b\b\b\b\b\b\b\b\b\b\b\b\b\b  4% - train.tsv\b\b\b\b\b\b\b\b\b\b\b\b\b\b\b\b                \b\b\b\b\b\b\b\b\b\b\b\b\b\b\b\b  7% - train.tsv\b\b\b\b\b\b\b\b\b\b\b\b\b\b\b\b                \b\b\b\b\b\b\b\b\b\b\b\b\b\b\b\b 10% - train.tsv\b\b\b\b\b\b\b\b\b\b\b\b\b\b\b\b                \b\b\b\b\b\b\b\b\b\b\b\b\b\b\b\b 13% - train.tsv\b\b\b\b\b\b\b\b\b\b\b\b\b\b\b\b                \b\b\b\b\b\b\b\b\b\b\b\b\b\b\b\b 16% - train.tsv\b\b\b\b\b\b\b\b\b\b\b\b\b\b\b\b                \b\b\b\b\b\b\b\b\b\b\b\b\b\b\b\b 18% - train.tsv\b\b\b\b\b\b\b\b\b\b\b\b\b\b\b\b                \b\b\b\b\b\b\b\b\b\b\b\b\b\b\b\b 21% - train.tsv\b\b\b\b\b\b\b\b\b\b\b\b\b\b\b\b                \b\b\b\b\b\b\b\b\b\b\b\b\b\b\b\b 23% - train.tsv\b\b\b\b\b\b\b\b\b\b\b\b\b\b\b\b                \b\b\b\b\b\b\b\b\b\b\b\b\b\b\b\b 26% - train.tsv\b\b\b\b\b\b\b\b\b\b\b\b\b\b\b\b                \b\b\b\b\b\b\b\b\b\b\b\b\b\b\b\b 29% - train.tsv\b\b\b\b\b\b\b\b\b\b\b\b\b\b\b\b                \b\b\b\b\b\b\b\b\b\b\b\b\b\b\b\b 32% - train.tsv\b\b\b\b\b\b\b\b\b\b\b\b\b\b\b\b                \b\b\b\b\b\b\b\b\b\b\b\b\b\b\b\b 34% - train.tsv\b\b\b\b\b\b\b\b\b\b\b\b\b\b\b\b                \b\b\b\b\b\b\b\b\b\b\b\b\b\b\b\b 37% - train.tsv\b\b\b\b\b\b\b\b\b\b\b\b\b\b\b\b                \b\b\b\b\b\b\b\b\b\b\b\b\b\b\b\b 40% - train.tsv\b\b\b\b\b\b\b\b\b\b\b\b\b\b\b\b                \b\b\b\b\b\b\b\b\b\b\b\b\b\b\b\b 42% - train.tsv\b\b\b\b\b\b\b\b\b\b\b\b\b\b\b\b                \b\b\b\b\b\b\b\b\b\b\b\b\b\b\b\b 45% - train.tsv\b\b\b\b\b\b\b\b\b\b\b\b\b\b\b\b                \b\b\b\b\b\b\b\b\b\b\b\b\b\b\b\b 48% - train.tsv\b\b\b\b\b\b\b\b\b\b\b\b\b\b\b\b                \b\b\b\b\b\b\b\b\b\b\b\b\b\b\b\b 52% - train.tsv\b\b\b\b\b\b\b\b\b\b\b\b\b\b\b\b                \b\b\b\b\b\b\b\b\b\b\b\b\b\b\b\b 54% - train.tsv\b\b\b\b\b\b\b\b\b\b\b\b\b\b\b\b                \b\b\b\b\b\b\b\b\b\b\b\b\b\b\b\b 57% - train.tsv\b\b\b\b\b\b\b\b\b\b\b\b\b\b\b\b                \b\b\b\b\b\b\b\b\b\b\b\b\b\b\b\b 60% - train.tsv\b\b\b\b\b\b\b\b\b\b\b\b\b\b\b\b                \b\b\b\b\b\b\b\b\b\b\b\b\b\b\b\b 63% - train.tsv\b\b\b\b\b\b\b\b\b\b\b\b\b\b\b\b                \b\b\b\b\b\b\b\b\b\b\b\b\b\b\b\b 65% - train.tsv\b\b\b\b\b\b\b\b\b\b\b\b\b\b\b\b                \b\b\b\b\b\b\b\b\b\b\b\b\b\b\b\b 69% - train.tsv\b\b\b\b\b\b\b\b\b\b\b\b\b\b\b\b                \b\b\b\b\b\b\b\b\b\b\b\b\b\b\b\b 72% - train.tsv\b\b\b\b\b\b\b\b\b\b\b\b\b\b\b\b                \b\b\b\b\b\b\b\b\b\b\b\b\b\b\b\b 75% - train.tsv\b\b\b\b\b\b\b\b\b\b\b\b\b\b\b\b                \b\b\b\b\b\b\b\b\b\b\b\b\b\b\b\b 78% - train.tsv\b\b\b\b\b\b\b\b\b\b\b\b\b\b\b\b                \b\b\b\b\b\b\b\b\b\b\b\b\b\b\b\b 80% - train.tsv\b\b\b\b\b\b\b\b\b\b\b\b\b\b\b\b                \b\b\b\b\b\b\b\b\b\b\b\b\b\b\b\b 84% - train.tsv\b\b\b\b\b\b\b\b\b\b\b\b\b\b\b\b                \b\b\b\b\b\b\b\b\b\b\b\b\b\b\b\b 87% - train.tsv\b\b\b\b\b\b\b\b\b\b\b\b\b\b\b\b                \b\b\b\b\b\b\b\b\b\b\b\b\b\b\b\b 90% - train.tsv\b\b\b\b\b\b\b\b\b\b\b\b\b\b\b\b                \b\b\b\b\b\b\b\b\b\b\b\b\b\b\b\b 92% - train.tsv\b\b\b\b\b\b\b\b\b\b\b\b\b\b\b\b                \b\b\b\b\b\b\b\b\b\b\b\b\b\b\b\b 95% - train.tsv\b\b\b\b\b\b\b\b\b\b\b\b\b\b\b\b                \b\b\b\b\b\b\b\b\b\b\b\b\b\b\b\b 98% - train.tsv\b\b\b\b\b\b\b\b\b\b\b\b\b\b\b\b                \b\b\b\b\b\b\b\b\b\b\b\b\b\b\b\bEverything is Ok\r\n",
            "\r\n",
            "Size:       337809843\r\n",
            "Compressed: 77912192\r\n",
            "\r\n",
            "7-Zip (a) [64] 16.02 : Copyright (c) 1999-2016 Igor Pavlov : 2016-05-21\r\n",
            "p7zip Version 16.02 (locale=C.UTF-8,Utf16=on,HugeFiles=on,64 bits,4 CPUs Intel(R) Xeon(R) CPU @ 2.20GHz (406F0),ASM,AES-NI)\r\n",
            "\r\n",
            "Scanning the drive for archives:\r\n",
            "  0M Scan /kaggle/input/mercari-price-suggestion-challenge/\b\b\b\b\b\b\b\b\b\b\b\b\b\b\b\b\b\b\b\b\b\b\b\b\b\b\b\b\b\b\b\b\b\b\b\b\b\b\b\b\b\b\b\b\b\b\b\b\b\b\b\b\b\b\b\b\b\b\b                                                           \b\b\b\b\b\b\b\b\b\b\b\b\b\b\b\b\b\b\b\b\b\b\b\b\b\b\b\b\b\b\b\b\b\b\b\b\b\b\b\b\b\b\b\b\b\b\b\b\b\b\b\b\b\b\b\b\b\b\b1 file, 35617013 bytes (34 MiB)\r\n",
            "\r\n",
            "Extracting archive: /kaggle/input/mercari-price-suggestion-challenge/test.tsv.7z\r\n",
            "--\r\n",
            "Path = /kaggle/input/mercari-price-suggestion-challenge/test.tsv.7z\r\n",
            "Type = 7z\r\n",
            "Physical Size = 35617013\r\n",
            "Headers Size = 122\r\n",
            "Method = LZMA2:24\r\n",
            "Solid = -\r\n",
            "Blocks = 1\r\n",
            "\r\n",
            "  0%\b\b\b\b    \b\b\b\b  5% - test.tsv\b\b\b\b\b\b\b\b\b\b\b\b\b\b\b               \b\b\b\b\b\b\b\b\b\b\b\b\b\b\b 10% - test.tsv\b\b\b\b\b\b\b\b\b\b\b\b\b\b\b               \b\b\b\b\b\b\b\b\b\b\b\b\b\b\b 17% - test.tsv\b\b\b\b\b\b\b\b\b\b\b\b\b\b\b               \b\b\b\b\b\b\b\b\b\b\b\b\b\b\b 23% - test.tsv\b\b\b\b\b\b\b\b\b\b\b\b\b\b\b               \b\b\b\b\b\b\b\b\b\b\b\b\b\b\b 29% - test.tsv\b\b\b\b\b\b\b\b\b\b\b\b\b\b\b               \b\b\b\b\b\b\b\b\b\b\b\b\b\b\b 35% - test.tsv\b\b\b\b\b\b\b\b\b\b\b\b\b\b\b               \b\b\b\b\b\b\b\b\b\b\b\b\b\b\b 43% - test.tsv\b\b\b\b\b\b\b\b\b\b\b\b\b\b\b               \b\b\b\b\b\b\b\b\b\b\b\b\b\b\b 48% - test.tsv\b\b\b\b\b\b\b\b\b\b\b\b\b\b\b               \b\b\b\b\b\b\b\b\b\b\b\b\b\b\b 54% - test.tsv\b\b\b\b\b\b\b\b\b\b\b\b\b\b\b               \b\b\b\b\b\b\b\b\b\b\b\b\b\b\b 59% - test.tsv\b\b\b\b\b\b\b\b\b\b\b\b\b\b\b               \b\b\b\b\b\b\b\b\b\b\b\b\b\b\b 65% - test.tsv\b\b\b\b\b\b\b\b\b\b\b\b\b\b\b               \b\b\b\b\b\b\b\b\b\b\b\b\b\b\b 73% - test.tsv\b\b\b\b\b\b\b\b\b\b\b\b\b\b\b               \b\b\b\b\b\b\b\b\b\b\b\b\b\b\b 79% - test.tsv\b\b\b\b\b\b\b\b\b\b\b\b\b\b\b               \b\b\b\b\b\b\b\b\b\b\b\b\b\b\b 85% - test.tsv\b\b\b\b\b\b\b\b\b\b\b\b\b\b\b               \b\b\b\b\b\b\b\b\b\b\b\b\b\b\b 91% - test.tsv\b\b\b\b\b\b\b\b\b\b\b\b\b\b\b               \b\b\b\b\b\b\b\b\b\b\b\b\b\b\b 97% - test.tsv\b\b\b\b\b\b\b\b\b\b\b\b\b\b\b               \b\b\b\b\b\b\b\b\b\b\b\b\b\b\bEverything is Ok\r\n",
            "\r\n",
            "Size:       154222160\r\n",
            "Compressed: 35617013\r\n",
            "\r\n",
            "7-Zip (a) [64] 16.02 : Copyright (c) 1999-2016 Igor Pavlov : 2016-05-21\r\n",
            "p7zip Version 16.02 (locale=C.UTF-8,Utf16=on,HugeFiles=on,64 bits,4 CPUs Intel(R) Xeon(R) CPU @ 2.20GHz (406F0),ASM,AES-NI)\r\n",
            "\r\n",
            "Scanning the drive for archives:\r\n",
            "  0M Scan /kaggle/input/mercari-price-suggestion-challenge/\b\b\b\b\b\b\b\b\b\b\b\b\b\b\b\b\b\b\b\b\b\b\b\b\b\b\b\b\b\b\b\b\b\b\b\b\b\b\b\b\b\b\b\b\b\b\b\b\b\b\b\b\b\b\b\b\b\b\b                                                           \b\b\b\b\b\b\b\b\b\b\b\b\b\b\b\b\b\b\b\b\b\b\b\b\b\b\b\b\b\b\b\b\b\b\b\b\b\b\b\b\b\b\b\b\b\b\b\b\b\b\b\b\b\b\b\b\b\b\b1 file, 174228 bytes (171 KiB)\r\n",
            "\r\n",
            "Extracting archive: /kaggle/input/mercari-price-suggestion-challenge/sample_submission.csv.7z\r\n",
            "--\r\n",
            "Path = /kaggle/input/mercari-price-suggestion-challenge/sample_submission.csv.7z\r\n",
            "Type = 7z\r\n",
            "Physical Size = 174228\r\n",
            "Headers Size = 143\r\n",
            "Method = LZMA:12m\r\n",
            "Solid = -\r\n",
            "Blocks = 1\r\n",
            "\r\n",
            "  0%\b\b\b\b    \b\b\b\bEverything is Ok\r\n",
            "\r\n",
            "Size:       9595930\r\n",
            "Compressed: 174228\r\n",
            "Archive:  /kaggle/input/mercari-price-suggestion-challenge/sample_submission_stg2.csv.zip\r\n",
            "  inflating: sample_submission_stg2.csv  \r\n"
          ]
        }
      ],
      "source": [
        "!ls /kaggle/input\n",
        "!apt-get install p7zip\n",
        "!p7zip -d -f -k /kaggle/input/mercari-price-suggestion-challenge/train.tsv.7z\n",
        "!p7zip -d -f -k /kaggle/input/mercari-price-suggestion-challenge/test.tsv.7z\n",
        "!p7zip -d -f -k /kaggle/input/mercari-price-suggestion-challenge/sample_submission.csv.7z\n",
        "!unzip /kaggle/input/mercari-price-suggestion-challenge/sample_submission_stg2.csv.zip"
      ]
    },
    {
      "cell_type": "code",
      "execution_count": null,
      "id": "homeless-bundle",
      "metadata": {
        "execution": {
          "iopub.execute_input": "2021-06-11T07:04:47.621478Z",
          "iopub.status.busy": "2021-06-11T07:04:47.620900Z",
          "iopub.status.idle": "2021-06-11T07:05:02.158102Z",
          "shell.execute_reply": "2021-06-11T07:05:02.157579Z",
          "shell.execute_reply.started": "2021-06-11T06:52:49.685186Z"
        },
        "papermill": {
          "duration": 14.586184,
          "end_time": "2021-06-11T07:05:02.158253",
          "exception": false,
          "start_time": "2021-06-11T07:04:47.572069",
          "status": "completed"
        },
        "tags": [],
        "id": "homeless-bundle"
      },
      "outputs": [],
      "source": [
        "predictions = np.exp(lgbregressor.predict(test))\n",
        "submission_data = pd.DataFrame()\n",
        "submission_data['test_id']=test['test_id']\n",
        "submission_data['price']=predictions\n",
        "submission_data.to_csv('submission.csv', index=False)"
      ]
    }
  ],
  "metadata": {
    "kernelspec": {
      "display_name": "Python 3",
      "language": "python",
      "name": "python3"
    },
    "language_info": {
      "codemirror_mode": {
        "name": "ipython",
        "version": 3
      },
      "file_extension": ".py",
      "mimetype": "text/x-python",
      "name": "python",
      "nbconvert_exporter": "python",
      "pygments_lexer": "ipython3",
      "version": "3.7.10"
    },
    "papermill": {
      "default_parameters": {},
      "duration": 178.902391,
      "end_time": "2021-06-11T07:05:03.590334",
      "environment_variables": {},
      "exception": null,
      "input_path": "__notebook__.ipynb",
      "output_path": "__notebook__.ipynb",
      "parameters": {},
      "start_time": "2021-06-11T07:02:04.687943",
      "version": "2.3.3"
    },
    "colab": {
      "provenance": []
    }
  },
  "nbformat": 4,
  "nbformat_minor": 5
}